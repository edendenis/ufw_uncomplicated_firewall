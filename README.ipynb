{
 "cells": [
  {
   "cell_type": "markdown",
   "metadata": {},
   "source": [
    "# Como instalar/configurar para o `UFW (Uncomplicated Firewall)` no `Linux Ubuntu`\n",
    "\n",
    "## Resumo\n",
    "\n",
    "Neste documento estão contidos os principais comandos e configurações para instalar/configurar o `UFW (Uncomplicated Firewall)` no `Linux Ubuntu`.\n",
    "\n",
    "## _Abstract_\n",
    "\n",
    "_This document contains the main commands and settings to install/configure the `UFW (UNcomplicated Firewall)` on `Linux Ubuntu`._"
   ]
  },
  {
   "cell_type": "markdown",
   "metadata": {},
   "source": [
    "## Descrição\n",
    "\n",
    "O `UFW (Uncomplicated Firewall)` é uma interface de usuário para o sistema de firewall iptables do `Linux`, projetada para tornar a gestão de regras de firewall mais simples e acessível. Ele permite que usuários, mesmo aqueles com conhecimento limitado em segurança de rede, configurem regras de firewall de maneira fácil e intuitiva, oferecendo um método direto para habilitar ou desabilitar o tráfego de rede em sistemas `Ubuntu` e outras distribuições `Linux` baseadas no Debian.\n"
   ]
  },
  {
   "cell_type": "markdown",
   "metadata": {},
   "source": [
    "## 1. Instalar o `UFW (Uncomplicated Firewall)` no `Linux Ubuntu` (caso ainda não esteja instalado) [1]\n",
    "\n",
    "Para ativar o firewall no `Ubuntu 22.04 LTS`, você pode usar o `UFW (Uncomplicated Firewall)`, que é uma interface mais amigável para gerenciar o iptables, o sistema de firewall do `Linux`. Siga as etapas abaixo:\n",
    "\n",
    "1. Abra o `Terminal Emulator`. Você pode fazer isso pressionando: `Ctrl + Alt + T`\n"
   ]
  },
  {
   "cell_type": "markdown",
   "metadata": {
    "vscode": {
     "languageId": "plaintext"
    }
   },
   "source": [
    "2. Certifique-se de que seu sistema esteja limpo e atualizado.\n",
    "\n",
    "    2.1 Limpar o `cache` do gerenciador de pacotes `apt`. Especificamente, ele remove todos os arquivos de pacotes (`.deb`) baixados pelo `apt` e armazenados em `/var/cache/apt/archives/`. Digite o seguinte comando: `sudo apt clean` \n",
    "    \n",
    "    2.2 Remover pacotes `.deb` antigos ou duplicados do cache local. É útil para liberar espaço, pois remove apenas os pacotes que não podem mais ser baixados (ou seja, versões antigas de pacotes que foram atualizados). Digite o seguinte comando: `sudo apt autoclean`\n",
    "\n",
    "    2.3 Remover pacotes que foram automaticamente instalados para satisfazer as dependências de outros pacotes e que não são mais necessários. Digite o seguinte comando: `sudo apt autoremove -y`\n",
    "\n",
    "    2.4 Buscar as atualizações disponíveis para os pacotes que estão instalados em seu sistema. Digite o seguinte comando e pressione `Enter`: `sudo apt update`\n",
    "\n",
    "    2.5 **Corrigir pacotes quebrados**: Isso atualizará a lista de pacotes disponíveis e tentará corrigir pacotes quebrados ou com dependências ausentes: `sudo apt --fix-broken install`\n",
    "\n",
    "    2.6 Limpar o `cache` do gerenciador de pacotes `apt`. Especificamente, ele remove todos os arquivos de pacotes (`.deb`) baixados pelo `apt` e armazenados em `/var/cache/apt/archives/`. Digite o seguinte comando: `sudo apt clean` \n",
    "    \n",
    "    2.7 Para ver a lista de pacotes a serem atualizados, digite o seguinte comando e pressione `Enter`:  `sudo apt list --upgradable`\n",
    "\n",
    "    2.8 Realmente atualizar os pacotes instalados para as suas versões mais recentes, com base na última vez que você executou `sudo apt update`. Digite o seguinte comando e pressione `Enter`: `sudo apt full-upgrade -y`\n",
    "    "
   ]
  },
  {
   "cell_type": "markdown",
   "metadata": {
    "vscode": {
     "languageId": "plaintext"
    }
   },
   "source": [
    "3. Instale o UFW com o comando: `sudo apt install ufw -y`\n",
    "\n",
    "4. **Ativar o UFW:** Para ativar o UFW, execute o comando: `sudo ufw enable`\n",
    "\n",
    "5. **Verificar o status do UFW**: Você pode verificar o status do UFW a qualquer momento usando: `sudo ufw status`\n",
    "\n",
    "Aqui estão os comandos correspondentes para cada etapa:\n",
    "\n",
    "## 1.1 Comentários sobre os comandos\n",
    "\n",
    "- **`sudo apt update`:** Este comando atualiza a lista de pacotes disponíveis para instalação.\n",
    "- **`sudo apt install ufw`:** Este comando instala o pacote UFW.\n",
    "- **`sudo ufw enable`:** Este comando ativa o firewall UFW.\n",
    "- **`sudo ufw status`:** Este comando mostra o status atual do firewall, incluindo quais portas estão abertas e quais regras estão ativas.\n",
    "\n",
    "Depois de ativar o UFW, você pode começar a adicionar regras para permitir ou bloquear tráfego específico, conforme necessário."
   ]
  },
  {
   "cell_type": "markdown",
   "metadata": {},
   "source": [
    "## 2. Código completo\n",
    "\n",
    "Para instalar o `ufw` no `Linux Ubuntu` sem precisar digitar linha por linha, você pode seguir estas etapas:\n",
    "\n",
    "1. Abra o `Terminal Emulator`. Você pode fazer isso pressionando: `Ctrl + Alt + T`\n",
    "\n",
    "2. Digite o seguinte comando e pressione `Enter`:\n",
    "\n",
    "    ```\n",
    "    sudo apt clean                                                            ─╯\n",
    "    sudo apt autoclean\n",
    "    sudo apt autoremove -y\n",
    "    sudo apt update\n",
    "    sudo apt --fix-broken install\n",
    "    sudo apt clean\n",
    "    sudo apt list --upgradable\n",
    "    sudo apt full-upgrade -y\n",
    "    sudo apt install ufw -y\n",
    "    sudo ufw enable\n",
    "    sudo ufw status\n",
    "    ```"
   ]
  },
  {
   "cell_type": "markdown",
   "metadata": {
    "vscode": {
     "languageId": "plaintext"
    }
   },
   "source": [
    "## Referências\n",
    "\n",
    "[1] OPENAI. ***Ativar Firewall no Ubuntu.*** Disponível em: <https://chat.openai.com/c/ccab59aa-3e70-465e-906d-59d7038ea632> (texto adaptado). Acessado em: 30/10/2023 11:11.\n",
    "\n",
    "[2] OPENAI. ***Vs code: editor popular.*** Disponível em: <https://chat.openai.com/c/b640a25d-f8e3-4922-8a3b-ed74a2657e42> (texto adaptado). ChatGPT. Acessado em: 30/10/2023 13:51.\n"
   ]
  }
 ],
 "metadata": {
  "kernelspec": {
   "display_name": "Python 3",
   "language": "python",
   "name": "python3"
  },
  "language_info": {
   "codemirror_mode": {
    "name": "ipython",
    "version": 3
   },
   "file_extension": ".py",
   "mimetype": "text/x-python",
   "name": "python",
   "nbconvert_exporter": "python",
   "pygments_lexer": "ipython3",
   "version": "3.8.10"
  },
  "orig_nbformat": 4
 },
 "nbformat": 4,
 "nbformat_minor": 2
}
